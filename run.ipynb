{
 "cells": [
  {
   "attachments": {},
   "cell_type": "markdown",
   "metadata": {},
   "source": [
    "Cities are not States due to loss of past information, therefore the State should be a tuple of sets\n",
    "$$\\mathcal{S} = (\\{C_{\\text{not visited}}\\}, C_{\\text{now}})$$\n",
    "Since all the cities are known $\\mathcal{C} \\equiv \\{c_i\\}$\n",
    "The possible Actions are defined as $\\mathcal{A} \\equiv \\mathcal{C}/\\mathcal{S}$\n",
    "\n",
    "Conclusion:\n",
    "The last State will be a tuple of an empty set and the current located city (e.g. $\\bar{\\mathcal{S}} = (\\{\\}, C_{\\text{now}})$)\n",
    "\n",
    "Whenever the System can be represented in a hierarchical representation, and you have the knowledge of the world you can apply Dynamic Programming:\n",
    "- Special Structure\n",
    "- Final State\n",
    "- Bellman Operator Equation\n",
    "- Know the Environment\n",
    "\n",
    "Lose the Special Structure (Contraction)\n",
    "\n",
    "$V_k^*(s) \\equiv \\text{Estimate level }k$\n",
    "$V_{k + 1}^*(s) = \\max[r(s, a) + \\gamma\\sum_{s'}p(s'|s,a)V^*_k(s)]$\n",
    "\n",
    "Contraction:\n",
    "\n"
   ]
  },
  {
   "cell_type": "markdown",
   "metadata": {},
   "source": []
  }
 ],
 "metadata": {
  "language_info": {
   "name": "python"
  },
  "orig_nbformat": 4
 },
 "nbformat": 4,
 "nbformat_minor": 2
}
